{
 "cells": [
  {
   "cell_type": "code",
   "execution_count": 88,
   "id": "12ea88a1-dd04-4ddc-8f2c-808027b0bdb1",
   "metadata": {},
   "outputs": [
    {
     "data": {
      "text/plain": [
       "True"
      ]
     },
     "execution_count": 88,
     "metadata": {},
     "output_type": "execute_result"
    }
   ],
   "source": [
    "from dotenv import load_dotenv\n",
    "load_dotenv()"
   ]
  },
  {
   "cell_type": "code",
   "execution_count": 89,
   "id": "4c5b3d1c-7c46-4da9-8011-06a113f0f432",
   "metadata": {},
   "outputs": [],
   "source": [
    "import pandas as pd\n",
    "import yfinance as yf\n",
    "import psycopg2\n",
    "from decouple import config"
   ]
  },
  {
   "cell_type": "code",
   "execution_count": 90,
   "id": "6b32630f-799d-402f-ba5c-9a811439a091",
   "metadata": {},
   "outputs": [],
   "source": [
    "conn = psycopg2.connect(\n",
    "    host=config('POSTGRES_HOST'),\n",
    "    port=\"5432\",\n",
    "    database=\"db13f2023\",\n",
    "    user=config('POSTGRES_USER'),\n",
    "    password=config('POSTGRES_PASSWORD')\n",
    ")\n",
    "\n",
    "conn.commit()\n",
    "cur = conn.cursor()\n",
    "\n",
    "cur.execute(\"\"\"\n",
    "SELECT\n",
    "\tticker,\n",
    "\tsum(value) AS value_shares\n",
    "FROM\n",
    "\t\"holdings\"\n",
    "INNER JOIN filings\n",
    "ON\n",
    "\tfilings.filing_id = holdings.filing_id\n",
    "INNER JOIN holding_infos\n",
    "ON\n",
    "\tholdings.cusip = holding_infos.cusip\n",
    "WHERE\n",
    "\tcik = '1067983'\n",
    "GROUP BY\n",
    "\tticker\n",
    "ORDER BY\n",
    "\tvalue_shares DESC;\n",
    "\"\"\")\n",
    "\n",
    "rows = cur.fetchall()\n",
    "\n",
    "cur.close()\n",
    "\n",
    "tickers = [row[0] for row in rows]\n",
    "\n",
    "tickers_df = pd.DataFrame(tickers, columns=['Ticker'])[:10]"
   ]
  },
  {
   "cell_type": "code",
   "execution_count": 130,
   "id": "0573df2d-7471-46c1-8fd1-14d56899022f",
   "metadata": {},
   "outputs": [
    {
     "data": {
      "text/html": [
       "<div>\n",
       "<style scoped>\n",
       "    .dataframe tbody tr th:only-of-type {\n",
       "        vertical-align: middle;\n",
       "    }\n",
       "\n",
       "    .dataframe tbody tr th {\n",
       "        vertical-align: top;\n",
       "    }\n",
       "\n",
       "    .dataframe thead th {\n",
       "        text-align: right;\n",
       "    }\n",
       "</style>\n",
       "<table border=\"1\" class=\"dataframe\">\n",
       "  <thead>\n",
       "    <tr style=\"text-align: right;\">\n",
       "      <th></th>\n",
       "      <th>Ticker</th>\n",
       "    </tr>\n",
       "  </thead>\n",
       "  <tbody>\n",
       "    <tr>\n",
       "      <th>0</th>\n",
       "      <td>AAPL</td>\n",
       "    </tr>\n",
       "    <tr>\n",
       "      <th>1</th>\n",
       "      <td>BAC</td>\n",
       "    </tr>\n",
       "    <tr>\n",
       "      <th>2</th>\n",
       "      <td>AXP</td>\n",
       "    </tr>\n",
       "    <tr>\n",
       "      <th>3</th>\n",
       "      <td>KO</td>\n",
       "    </tr>\n",
       "    <tr>\n",
       "      <th>4</th>\n",
       "      <td>CHV</td>\n",
       "    </tr>\n",
       "    <tr>\n",
       "      <th>5</th>\n",
       "      <td>OXY</td>\n",
       "    </tr>\n",
       "    <tr>\n",
       "      <th>6</th>\n",
       "      <td>KHC</td>\n",
       "    </tr>\n",
       "    <tr>\n",
       "      <th>7</th>\n",
       "      <td>DUT</td>\n",
       "    </tr>\n",
       "    <tr>\n",
       "      <th>8</th>\n",
       "      <td>7HP</td>\n",
       "    </tr>\n",
       "    <tr>\n",
       "      <th>9</th>\n",
       "      <td>TRL</td>\n",
       "    </tr>\n",
       "  </tbody>\n",
       "</table>\n",
       "</div>"
      ],
      "text/plain": [
       "  Ticker\n",
       "0   AAPL\n",
       "1    BAC\n",
       "2    AXP\n",
       "3     KO\n",
       "4    CHV\n",
       "5    OXY\n",
       "6    KHC\n",
       "7    DUT\n",
       "8    7HP\n",
       "9    TRL"
      ]
     },
     "execution_count": 130,
     "metadata": {},
     "output_type": "execute_result"
    }
   ],
   "source": [
    "tickers_df"
   ]
  },
  {
   "cell_type": "code",
   "execution_count": 110,
   "id": "f8b6fd60-2d9c-4c26-adef-bc47679a187c",
   "metadata": {},
   "outputs": [],
   "source": [
    "from tradingview_ta import TA_Handler, Interval, Exchange"
   ]
  },
  {
   "cell_type": "code",
   "execution_count": 189,
   "id": "f3b525d6-1bf3-46c2-a761-a8f32e43c379",
   "metadata": {},
   "outputs": [],
   "source": [
    "nyse_symbols = ['BAC', 'AXP', 'KO', 'OXY'] "
   ]
  },
  {
   "cell_type": "code",
   "execution_count": 190,
   "id": "0dade3f7-ba85-4340-99f9-73aca060eff8",
   "metadata": {},
   "outputs": [
    {
     "name": "stdout",
     "output_type": "stream",
     "text": [
      "Stock: BAC\n",
      "{'RECOMMENDATION': 'SELL', 'BUY': 5, 'SELL': 14, 'NEUTRAL': 7}\n",
      "Stock: AXP\n",
      "{'RECOMMENDATION': 'SELL', 'BUY': 7, 'SELL': 12, 'NEUTRAL': 7}\n",
      "Stock: KO\n",
      "{'RECOMMENDATION': 'SELL', 'BUY': 2, 'SELL': 15, 'NEUTRAL': 9}\n",
      "Stock: OXY\n",
      "{'RECOMMENDATION': 'STRONG_BUY', 'BUY': 17, 'SELL': 0, 'NEUTRAL': 9}\n"
     ]
    }
   ],
   "source": [
    "for symbol in nyse_symbols:\n",
    "    handler = TA_Handler(\n",
    "        symbol=symbol,\n",
    "        screener=\"america\",\n",
    "        exchange=\"NYSE\",\n",
    "        interval=Interval.INTERVAL_1_WEEK\n",
    "    )\n",
    "    print('Stock: ' +symbol)\n",
    "    print(handler.get_analysis().summary)"
   ]
  },
  {
   "cell_type": "code",
   "execution_count": 192,
   "id": "acd282bc-ba7c-4980-bfc6-c0277d186ff2",
   "metadata": {},
   "outputs": [],
   "source": [
    "nasdaq_symbols = ['AAPL', 'KHC']"
   ]
  },
  {
   "cell_type": "code",
   "execution_count": 193,
   "id": "e28fb695-01be-4b97-8ac6-190f5d619428",
   "metadata": {},
   "outputs": [
    {
     "name": "stdout",
     "output_type": "stream",
     "text": [
      "Stock: AAPL\n",
      "{'RECOMMENDATION': 'BUY', 'BUY': 15, 'SELL': 3, 'NEUTRAL': 8}\n",
      "Stock: KHC\n",
      "{'RECOMMENDATION': 'SELL', 'BUY': 1, 'SELL': 15, 'NEUTRAL': 10}\n"
     ]
    }
   ],
   "source": [
    "for symbol in nasdaq_symbols:\n",
    "    handler = TA_Handler(\n",
    "        symbol=symbol,\n",
    "        screener=\"america\",\n",
    "        exchange=\"NASDAQ\",\n",
    "        interval=Interval.INTERVAL_1_WEEK\n",
    "    )\n",
    "    print('Stock: ' +symbol)\n",
    "    print(handler.get_analysis().summary)"
   ]
  },
  {
   "cell_type": "code",
   "execution_count": 202,
   "id": "a754f984-b1c0-4585-8672-5d4851d4393f",
   "metadata": {},
   "outputs": [],
   "source": [
    "dow30 = ['MMM', 'AXP', 'AMGN', 'AAPL', 'BA', 'CAT', 'CVX', 'CSCO', 'KO', 'DOW', 'GS', 'HD', 'HON', 'IBM', 'INTC', 'JNJ', 'JPM', 'MCD', 'MRK', 'MSFT', 'NKE', 'PG', 'CRM', 'TRV', 'UNH', 'VZ', 'V', 'WMT', 'DIS', 'WBA']"
   ]
  },
  {
   "cell_type": "code",
   "execution_count": null,
   "id": "26b4273f-42ed-446b-8625-aa4169e5417c",
   "metadata": {},
   "outputs": [],
   "source": []
  }
 ],
 "metadata": {
  "kernelspec": {
   "display_name": "Python 3 (ipykernel)",
   "language": "python",
   "name": "python3"
  },
  "language_info": {
   "codemirror_mode": {
    "name": "ipython",
    "version": 3
   },
   "file_extension": ".py",
   "mimetype": "text/x-python",
   "name": "python",
   "nbconvert_exporter": "python",
   "pygments_lexer": "ipython3",
   "version": "3.10.12"
  }
 },
 "nbformat": 4,
 "nbformat_minor": 5
}
